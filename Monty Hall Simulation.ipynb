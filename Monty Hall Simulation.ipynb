{
  "nbformat": 4,
  "nbformat_minor": 0,
  "metadata": {
    "colab": {
      "provenance": []
    },
    "kernelspec": {
      "name": "python3",
      "display_name": "Python 3"
    },
    "language_info": {
      "name": "python"
    }
  },
  "cells": [
    {
      "cell_type": "code",
      "execution_count": null,
      "metadata": {
        "colab": {
          "base_uri": "https://localhost:8080/"
        },
        "id": "pYmq4DjGyIu8",
        "outputId": "35c53a46-1fca-4a63-aa97-f9890bf10c76"
      },
      "outputs": [
        {
          "output_type": "stream",
          "name": "stdout",
          "text": [
            "Success rate if you do not change doors is: 33.37% out of 1,000,000 trials\n",
            "Success rate if you DO change doors is: 66.60% out of 1,000,000 trials\n"
          ]
        }
      ],
      "source": [
        "import random\n",
        "\n",
        "#Number of simulations\n",
        "n = 1000000\n",
        "\n",
        "#Creating our doors and randomly shuffling (doesn't really matter due to symmetry)\n",
        "doors = ['Car', 'Goat1', 'Goat2']\n",
        "doors = random.sample(doors,len(doors))\n",
        "\n",
        "def simulation(n,doors):\n",
        "  \n",
        "  n = n\n",
        "  success_no_change = 0\n",
        "  success_change_doors = 0\n",
        "\n",
        "  for i in range(n):\n",
        "\n",
        "    #Pick a door at random\n",
        "    choice = doors[random.randint(0,2)]\n",
        "\n",
        "    #If we don't change our choice after revealing door containing goat\n",
        "    if choice == 'Car':\n",
        "      success_no_change += 1\n",
        "\n",
        "    # If we DO switch doors after Monty reveals another door that contains goat\n",
        "    choice_initial = choice\n",
        "    monty_choice = random.choice([d for d in doors if (d!=\"Car\" and d!=choice)])\n",
        "    change_doors = [d for d in doors if (d != choice and d != monty_choice)][0]\n",
        "\n",
        "    if change_doors == \"Car\":\n",
        "      success_change_doors += 1\n",
        "\n",
        "  return success_no_change/n, success_change_doors/n\n",
        "\n",
        "\n",
        "print(f'Success rate if you do not change doors is: {simulation(n,doors)[0]*100:.2f}% out of {n:,} trials')\n",
        "print(f'Success rate if you DO change doors is: {simulation(n,doors)[1]*100:.2f}% out of {n:,} trials')"
      ]
    }
  ]
}