{
 "cells": [
  {
   "cell_type": "code",
   "execution_count": null,
   "id": "0bfe1e08",
   "metadata": {},
   "outputs": [],
   "source": [
    "'''\n",
    "The following code generates audio from a pdf file.\n",
    "PyPDF2 and pyttsx3 is required to run the code.\n",
    "Note that you may run into audio output issues on Google Colab.\n",
    "'''\n",
    "\n",
    "# !pip install pyttsx3\n",
    "# !pip install PyPDF2\n",
    "\n",
    "import PyPDF2, pyttsx3\n",
    "\n",
    "path = open('Cover Letter.pdf','rb')\n",
    "pdfReader = PyPDF2.PdfFileReader(path)\n",
    "engine = pyttsx3.init()\n",
    "engine.setProperty('rate', 150)\n",
    "engine.setProperty('volume', 10)\n",
    "\n",
    "for pages in range(pdfReader.numPages):\n",
    "    text = pdfReader.getPage(pages).extractText()\n",
    "    engine.say(text)\n",
    "    engine.runAndWait()\n",
    "\n",
    "engine.stop()"
   ]
  }
 ],
 "metadata": {
  "kernelspec": {
   "display_name": "Python 3 (ipykernel)",
   "language": "python",
   "name": "python3"
  },
  "language_info": {
   "codemirror_mode": {
    "name": "ipython",
    "version": 3
   },
   "file_extension": ".py",
   "mimetype": "text/x-python",
   "name": "python",
   "nbconvert_exporter": "python",
   "pygments_lexer": "ipython3",
   "version": "3.9.13"
  }
 },
 "nbformat": 4,
 "nbformat_minor": 5
}
