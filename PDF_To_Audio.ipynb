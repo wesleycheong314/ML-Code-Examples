{
 "cells": [
  {
   "cell_type": "code",
   "execution_count": null,
   "id": "0bfe1e08",
   "metadata": {},
   "outputs": [],
   "source": [
    "# !pip install pyttsx3\n",
    "# !pip install PyPDF2\n",
    "\n",
    "import PyPDF2, pyttsx3\n",
    "\n",
    "path = open('Cover Letter.pdf','rb')\n",
    "pdfReader = PyPDF2.PdfFileReader(path)\n",
    "engine = pyttsx3.init()\n",
    "engine.setProperty('rate', 150)\n",
    "engine.setProperty('volume', 10)\n",
    "\n",
    "for pages in range(pdfReader.numPages):\n",
    "    text = pdfReader.getPage(pages).extractText()\n",
    "    engine.say(text)\n",
    "    engine.runAndWait()\n",
    "\n",
    "engine.stop()"
   ]
  },
  {
   "cell_type": "code",
   "execution_count": null,
   "id": "90d4b2ca",
   "metadata": {},
   "outputs": [],
   "source": []
  }
 ],
 "metadata": {
  "kernelspec": {
   "display_name": "Python 3 (ipykernel)",
   "language": "python",
   "name": "python3"
  },
  "language_info": {
   "codemirror_mode": {
    "name": "ipython",
    "version": 3
   },
   "file_extension": ".py",
   "mimetype": "text/x-python",
   "name": "python",
   "nbconvert_exporter": "python",
   "pygments_lexer": "ipython3",
   "version": "3.9.13"
  }
 },
 "nbformat": 4,
 "nbformat_minor": 5
}
